{
  "nbformat": 4,
  "nbformat_minor": 0,
  "metadata": {
    "colab": {
      "provenance": [],
      "include_colab_link": true
    },
    "kernelspec": {
      "name": "python3",
      "display_name": "Python 3"
    },
    "language_info": {
      "name": "python"
    }
  },
  "cells": [
    {
      "cell_type": "markdown",
      "metadata": {
        "id": "view-in-github",
        "colab_type": "text"
      },
      "source": [
        "<a href=\"https://colab.research.google.com/github/JuanArmas/Proyecto_Final_CEIABD/blob/main/Tratamiento_Datos_2daParte_Version_I_ipynb.ipynb\" target=\"_parent\"><img src=\"https://colab.research.google.com/assets/colab-badge.svg\" alt=\"Open In Colab\"/></a>"
      ]
    },
    {
      "cell_type": "markdown",
      "source": [
        "Juan Airam Armas Alemán\n",
        "\n",
        "Github: https://github.com/JuanArmas/Proyecto_Final_CEIABD/blob/main/Tratamiento_Datos_2daParte_Version_I_ipynb.ipynb\n",
        "\n",
        "Drive:\n",
        "https://drive.google.com/drive/folders/1FvCMo_QYz68XXPFFX4b4TJPTSollnmgB?usp=sharing\n"
      ],
      "metadata": {
        "id": "YsEYGma4OdIm"
      }
    },
    {
      "cell_type": "code",
      "execution_count": 1,
      "metadata": {
        "id": "7UYTXHR_ouY-"
      },
      "outputs": [],
      "source": [
        "import numpy as np\n",
        "import pandas as pd\n",
        "\n",
        "from google.colab import drive\n",
        "from sklearn.model_selection import train_test_split, KFold\n",
        "from sklearn.metrics import mean_squared_error\n",
        "from sklearn.preprocessing import StandardScaler"
      ]
    },
    {
      "cell_type": "code",
      "source": [
        "drive.mount('/content/drive')"
      ],
      "metadata": {
        "colab": {
          "base_uri": "https://localhost:8080/"
        },
        "id": "EFQTPbQc-tUV",
        "outputId": "a0964d50-a11e-466d-e4b6-ce342024f456"
      },
      "execution_count": 3,
      "outputs": [
        {
          "output_type": "stream",
          "name": "stdout",
          "text": [
            "Mounted at /content/drive\n"
          ]
        }
      ]
    },
    {
      "cell_type": "markdown",
      "source": [
        "#Carga de Datos\n",
        "\n",
        "- Cargamos los datos previamente filtrados y almacenados en el drive.\n",
        "\n",
        "- A su vez se carga el dataset de festivos y laborales que tenemos alojado también en drive."
      ],
      "metadata": {
        "id": "Lr1T5wKoWefn"
      }
    },
    {
      "cell_type": "code",
      "source": [
        "# Cargar los datos\n",
        "nombre_aparcamiento = input(\"Introduce el nombre del aparcamiento: \")\n",
        "nombre_aparcamiento = nombre_aparcamiento.upper()\n",
        "df = pd.read_csv(f\"/content/drive/MyDrive/Proyecto_Final/Datasets_creados/{nombre_aparcamiento}.csv\")\n",
        "df_festivo_laboral = pd.read_csv('/content/drive/MyDrive/Proyecto_Final/Datasets_creados/dias_2023.csv')"
      ],
      "metadata": {
        "id": "L-wwO8Y-pTcA",
        "colab": {
          "base_uri": "https://localhost:8080/"
        },
        "outputId": "cb0af024-8e1a-4e13-97b3-67f2b13cdad5"
      },
      "execution_count": 23,
      "outputs": [
        {
          "name": "stdout",
          "output_type": "stream",
          "text": [
            "Introduce el nombre del aparcamiento: rincón\n"
          ]
        }
      ]
    },
    {
      "cell_type": "markdown",
      "source": [
        "Comprobaciones de que todo va como debiera y eliminación de columna \"Estado\" que servía de guía."
      ],
      "metadata": {
        "id": "jB_qd3MGXAMj"
      }
    },
    {
      "cell_type": "code",
      "source": [
        "filas_df_festivo_laboral = len(df_festivo_laboral)\n",
        "filas_df_festivo_laboral"
      ],
      "metadata": {
        "colab": {
          "base_uri": "https://localhost:8080/"
        },
        "id": "u2Ajx7CYBJ8I",
        "outputId": "1c4baec3-9d35-4de2-df72-579bc0bed8da"
      },
      "execution_count": 24,
      "outputs": [
        {
          "output_type": "execute_result",
          "data": {
            "text/plain": [
              "365"
            ]
          },
          "metadata": {},
          "execution_count": 24
        }
      ]
    },
    {
      "cell_type": "code",
      "source": [
        "df_festivo_laboral.columns"
      ],
      "metadata": {
        "colab": {
          "base_uri": "https://localhost:8080/"
        },
        "id": "-9REnJd6_xHX",
        "outputId": "269b7308-7c72-4245-b369-cf3310b3055d"
      },
      "execution_count": 25,
      "outputs": [
        {
          "output_type": "execute_result",
          "data": {
            "text/plain": [
              "Index(['Fecha', 'Estado', 'Valor'], dtype='object')"
            ]
          },
          "metadata": {},
          "execution_count": 25
        }
      ]
    },
    {
      "cell_type": "code",
      "source": [
        "df_festivo_laboral.drop('Estado', axis=1, inplace=True)\n",
        "df_festivo_laboral.columns"
      ],
      "metadata": {
        "colab": {
          "base_uri": "https://localhost:8080/"
        },
        "id": "smOvSyC0AFIX",
        "outputId": "8bd38dbb-e42d-4a91-b226-f256d0ff656f"
      },
      "execution_count": 26,
      "outputs": [
        {
          "output_type": "execute_result",
          "data": {
            "text/plain": [
              "Index(['Fecha', 'Valor'], dtype='object')"
            ]
          },
          "metadata": {},
          "execution_count": 26
        }
      ]
    },
    {
      "cell_type": "markdown",
      "source": [
        "# Inicio de la normalización de los datasets\n",
        "- Se trabajan las fechas para tenerlas en un formato fácil de recorrer. El formato será año, mes y día sin separadores. ej: 20230101 para el 1 de Enero del 2023.\n",
        "- Nos aseguramos de que las fechas son enteros y las redondeamos en última instancia."
      ],
      "metadata": {
        "id": "LUs_bPyzXV-n"
      }
    },
    {
      "cell_type": "code",
      "source": [
        "# Convertimos la columna 'EventTime' a datetime; ISO8601”-> Analizar cualquier cadena de tiempo\n",
        "df['EventTime'] = pd.to_datetime(df['EventTime'], format='ISO8601')\n",
        "\n",
        "# Extraemos la fecha y la hora como variables separadas\n",
        "df['fecha'] = df['EventTime'].dt.date\n",
        "df['hora'] = df['EventTime'].dt.time\n",
        "\n",
        "# Convertimos la columna \"fecha\" a string con el formato deseado\n",
        "fecha_str = df['fecha'].astype(str)\n",
        "\n",
        "# Convertimos la columna \"hora\" a string con el formato deseado y redondeamos siempre\n",
        "hora_str = df['EventTime'].dt.strftime('%H')\n",
        "\n",
        "# Redondeamos las horas\n",
        "hora_str = [f'{round(int(x))}' for x in hora_str]\n",
        "\n",
        "# Convertimos los strings a enteros\n",
        "fecha_int = [int(x.replace('-', '')) for x in fecha_str]\n",
        "hora_int = [int(x) for x in hora_str]"
      ],
      "metadata": {
        "id": "SA8ek_gLpTZH"
      },
      "execution_count": 27,
      "outputs": []
    },
    {
      "cell_type": "markdown",
      "source": [
        "- Se separan las horas de la fecha y el día\n",
        "- Se reemplazan los valores categóricos por numéricos, en este caso se hace manualmente al ser pocos los cambios a realizar, entrada/salida y nombres de aparcamientos (1-7)\n",
        "- Se reordenan las columnas del dataset para su mejor interpretación."
      ],
      "metadata": {
        "id": "WKmZw1DKYL2n"
      }
    },
    {
      "cell_type": "code",
      "source": [
        "del df['EventTime']\n",
        "df = df.reindex(['APARCAMIENTO','fecha','hora','EventDesc'], axis=1)\n",
        "\n",
        "# Introducimos la fecha y hora numérica a la tabla\n",
        "df['fecha'] = fecha_int\n",
        "df['hora'] = hora_int\n",
        "\n",
        "# Reemplazamos los valores categóricos por enteros\n",
        "df = df.replace({\"ENTRADA\": 0, \"SALIDA\": 1, 'Entrada': 0, 'Salida': 1,'RINCÓN': 1, 'ELDER': 2, 'SAN BERNARDO': 3, 'SANAPÚ': 4, 'MATA': 5, 'VEGUETA': 6, 'METROPOL': 7})"
      ],
      "metadata": {
        "id": "8KtWMHlxpTWk"
      },
      "execution_count": 28,
      "outputs": []
    },
    {
      "cell_type": "markdown",
      "source": [
        "- Se crean dos columnas nuevas entrada/salida, extrayendo de la columna eventdesc el numero de entradsa y salidas por día. Se borra la columna eventdesc."
      ],
      "metadata": {
        "id": "S3YdNTVBY04z"
      }
    },
    {
      "cell_type": "code",
      "source": [
        "# Dividir los valores de EventDesc en dos columnas nuevas: Entrada y Salida\n",
        "df['Entrada'] = df['EventDesc'].apply(lambda x: 1 if x == 1 else 0)\n",
        "df['Salida'] = df['EventDesc'].apply(lambda x: 1 if x == 0 else 0)\n",
        "\n",
        "# Eliminar la columna EventDesc si ya no se necesita\n",
        "df.drop('EventDesc', axis=1, inplace=True)\n",
        "\n",
        "print(f\"Mostrando datos de {nombre_aparcamiento}:\")\n",
        "df\n"
      ],
      "metadata": {
        "colab": {
          "base_uri": "https://localhost:8080/",
          "height": 441
        },
        "id": "5jhe8gCSDdwK",
        "outputId": "f0298f28-dec9-4e6e-b805-3d032812d4a6"
      },
      "execution_count": 29,
      "outputs": [
        {
          "output_type": "stream",
          "name": "stdout",
          "text": [
            "Mostrando datos de RINCÓN:\n"
          ]
        },
        {
          "output_type": "execute_result",
          "data": {
            "text/plain": [
              "         APARCAMIENTO     fecha  hora  Entrada  Salida\n",
              "0                   1  20230101     0        0       1\n",
              "1                   1  20230101     0        1       0\n",
              "2                   1  20230101     0        0       1\n",
              "3                   1  20230101     0        0       1\n",
              "4                   1  20230101     0        0       1\n",
              "...               ...       ...   ...      ...     ...\n",
              "1036481             1  20231230     0        1       0\n",
              "1036482             1  20231230    12        0       1\n",
              "1036483             1  20231230    16        1       0\n",
              "1036484             1  20231231    11        0       1\n",
              "1036485             1  20231231    18        1       0\n",
              "\n",
              "[1036486 rows x 5 columns]"
            ],
            "text/html": [
              "\n",
              "  <div id=\"df-3ada594b-acb7-466c-b816-0d1dc1dea0ea\" class=\"colab-df-container\">\n",
              "    <div>\n",
              "<style scoped>\n",
              "    .dataframe tbody tr th:only-of-type {\n",
              "        vertical-align: middle;\n",
              "    }\n",
              "\n",
              "    .dataframe tbody tr th {\n",
              "        vertical-align: top;\n",
              "    }\n",
              "\n",
              "    .dataframe thead th {\n",
              "        text-align: right;\n",
              "    }\n",
              "</style>\n",
              "<table border=\"1\" class=\"dataframe\">\n",
              "  <thead>\n",
              "    <tr style=\"text-align: right;\">\n",
              "      <th></th>\n",
              "      <th>APARCAMIENTO</th>\n",
              "      <th>fecha</th>\n",
              "      <th>hora</th>\n",
              "      <th>Entrada</th>\n",
              "      <th>Salida</th>\n",
              "    </tr>\n",
              "  </thead>\n",
              "  <tbody>\n",
              "    <tr>\n",
              "      <th>0</th>\n",
              "      <td>1</td>\n",
              "      <td>20230101</td>\n",
              "      <td>0</td>\n",
              "      <td>0</td>\n",
              "      <td>1</td>\n",
              "    </tr>\n",
              "    <tr>\n",
              "      <th>1</th>\n",
              "      <td>1</td>\n",
              "      <td>20230101</td>\n",
              "      <td>0</td>\n",
              "      <td>1</td>\n",
              "      <td>0</td>\n",
              "    </tr>\n",
              "    <tr>\n",
              "      <th>2</th>\n",
              "      <td>1</td>\n",
              "      <td>20230101</td>\n",
              "      <td>0</td>\n",
              "      <td>0</td>\n",
              "      <td>1</td>\n",
              "    </tr>\n",
              "    <tr>\n",
              "      <th>3</th>\n",
              "      <td>1</td>\n",
              "      <td>20230101</td>\n",
              "      <td>0</td>\n",
              "      <td>0</td>\n",
              "      <td>1</td>\n",
              "    </tr>\n",
              "    <tr>\n",
              "      <th>4</th>\n",
              "      <td>1</td>\n",
              "      <td>20230101</td>\n",
              "      <td>0</td>\n",
              "      <td>0</td>\n",
              "      <td>1</td>\n",
              "    </tr>\n",
              "    <tr>\n",
              "      <th>...</th>\n",
              "      <td>...</td>\n",
              "      <td>...</td>\n",
              "      <td>...</td>\n",
              "      <td>...</td>\n",
              "      <td>...</td>\n",
              "    </tr>\n",
              "    <tr>\n",
              "      <th>1036481</th>\n",
              "      <td>1</td>\n",
              "      <td>20231230</td>\n",
              "      <td>0</td>\n",
              "      <td>1</td>\n",
              "      <td>0</td>\n",
              "    </tr>\n",
              "    <tr>\n",
              "      <th>1036482</th>\n",
              "      <td>1</td>\n",
              "      <td>20231230</td>\n",
              "      <td>12</td>\n",
              "      <td>0</td>\n",
              "      <td>1</td>\n",
              "    </tr>\n",
              "    <tr>\n",
              "      <th>1036483</th>\n",
              "      <td>1</td>\n",
              "      <td>20231230</td>\n",
              "      <td>16</td>\n",
              "      <td>1</td>\n",
              "      <td>0</td>\n",
              "    </tr>\n",
              "    <tr>\n",
              "      <th>1036484</th>\n",
              "      <td>1</td>\n",
              "      <td>20231231</td>\n",
              "      <td>11</td>\n",
              "      <td>0</td>\n",
              "      <td>1</td>\n",
              "    </tr>\n",
              "    <tr>\n",
              "      <th>1036485</th>\n",
              "      <td>1</td>\n",
              "      <td>20231231</td>\n",
              "      <td>18</td>\n",
              "      <td>1</td>\n",
              "      <td>0</td>\n",
              "    </tr>\n",
              "  </tbody>\n",
              "</table>\n",
              "<p>1036486 rows × 5 columns</p>\n",
              "</div>\n",
              "    <div class=\"colab-df-buttons\">\n",
              "\n",
              "  <div class=\"colab-df-container\">\n",
              "    <button class=\"colab-df-convert\" onclick=\"convertToInteractive('df-3ada594b-acb7-466c-b816-0d1dc1dea0ea')\"\n",
              "            title=\"Convert this dataframe to an interactive table.\"\n",
              "            style=\"display:none;\">\n",
              "\n",
              "  <svg xmlns=\"http://www.w3.org/2000/svg\" height=\"24px\" viewBox=\"0 -960 960 960\">\n",
              "    <path d=\"M120-120v-720h720v720H120Zm60-500h600v-160H180v160Zm220 220h160v-160H400v160Zm0 220h160v-160H400v160ZM180-400h160v-160H180v160Zm440 0h160v-160H620v160ZM180-180h160v-160H180v160Zm440 0h160v-160H620v160Z\"/>\n",
              "  </svg>\n",
              "    </button>\n",
              "\n",
              "  <style>\n",
              "    .colab-df-container {\n",
              "      display:flex;\n",
              "      gap: 12px;\n",
              "    }\n",
              "\n",
              "    .colab-df-convert {\n",
              "      background-color: #E8F0FE;\n",
              "      border: none;\n",
              "      border-radius: 50%;\n",
              "      cursor: pointer;\n",
              "      display: none;\n",
              "      fill: #1967D2;\n",
              "      height: 32px;\n",
              "      padding: 0 0 0 0;\n",
              "      width: 32px;\n",
              "    }\n",
              "\n",
              "    .colab-df-convert:hover {\n",
              "      background-color: #E2EBFA;\n",
              "      box-shadow: 0px 1px 2px rgba(60, 64, 67, 0.3), 0px 1px 3px 1px rgba(60, 64, 67, 0.15);\n",
              "      fill: #174EA6;\n",
              "    }\n",
              "\n",
              "    .colab-df-buttons div {\n",
              "      margin-bottom: 4px;\n",
              "    }\n",
              "\n",
              "    [theme=dark] .colab-df-convert {\n",
              "      background-color: #3B4455;\n",
              "      fill: #D2E3FC;\n",
              "    }\n",
              "\n",
              "    [theme=dark] .colab-df-convert:hover {\n",
              "      background-color: #434B5C;\n",
              "      box-shadow: 0px 1px 3px 1px rgba(0, 0, 0, 0.15);\n",
              "      filter: drop-shadow(0px 1px 2px rgba(0, 0, 0, 0.3));\n",
              "      fill: #FFFFFF;\n",
              "    }\n",
              "  </style>\n",
              "\n",
              "    <script>\n",
              "      const buttonEl =\n",
              "        document.querySelector('#df-3ada594b-acb7-466c-b816-0d1dc1dea0ea button.colab-df-convert');\n",
              "      buttonEl.style.display =\n",
              "        google.colab.kernel.accessAllowed ? 'block' : 'none';\n",
              "\n",
              "      async function convertToInteractive(key) {\n",
              "        const element = document.querySelector('#df-3ada594b-acb7-466c-b816-0d1dc1dea0ea');\n",
              "        const dataTable =\n",
              "          await google.colab.kernel.invokeFunction('convertToInteractive',\n",
              "                                                    [key], {});\n",
              "        if (!dataTable) return;\n",
              "\n",
              "        const docLinkHtml = 'Like what you see? Visit the ' +\n",
              "          '<a target=\"_blank\" href=https://colab.research.google.com/notebooks/data_table.ipynb>data table notebook</a>'\n",
              "          + ' to learn more about interactive tables.';\n",
              "        element.innerHTML = '';\n",
              "        dataTable['output_type'] = 'display_data';\n",
              "        await google.colab.output.renderOutput(dataTable, element);\n",
              "        const docLink = document.createElement('div');\n",
              "        docLink.innerHTML = docLinkHtml;\n",
              "        element.appendChild(docLink);\n",
              "      }\n",
              "    </script>\n",
              "  </div>\n",
              "\n",
              "\n",
              "<div id=\"df-54a4a282-961f-4039-ae91-8a621f8620a5\">\n",
              "  <button class=\"colab-df-quickchart\" onclick=\"quickchart('df-54a4a282-961f-4039-ae91-8a621f8620a5')\"\n",
              "            title=\"Suggest charts\"\n",
              "            style=\"display:none;\">\n",
              "\n",
              "<svg xmlns=\"http://www.w3.org/2000/svg\" height=\"24px\"viewBox=\"0 0 24 24\"\n",
              "     width=\"24px\">\n",
              "    <g>\n",
              "        <path d=\"M19 3H5c-1.1 0-2 .9-2 2v14c0 1.1.9 2 2 2h14c1.1 0 2-.9 2-2V5c0-1.1-.9-2-2-2zM9 17H7v-7h2v7zm4 0h-2V7h2v10zm4 0h-2v-4h2v4z\"/>\n",
              "    </g>\n",
              "</svg>\n",
              "  </button>\n",
              "\n",
              "<style>\n",
              "  .colab-df-quickchart {\n",
              "      --bg-color: #E8F0FE;\n",
              "      --fill-color: #1967D2;\n",
              "      --hover-bg-color: #E2EBFA;\n",
              "      --hover-fill-color: #174EA6;\n",
              "      --disabled-fill-color: #AAA;\n",
              "      --disabled-bg-color: #DDD;\n",
              "  }\n",
              "\n",
              "  [theme=dark] .colab-df-quickchart {\n",
              "      --bg-color: #3B4455;\n",
              "      --fill-color: #D2E3FC;\n",
              "      --hover-bg-color: #434B5C;\n",
              "      --hover-fill-color: #FFFFFF;\n",
              "      --disabled-bg-color: #3B4455;\n",
              "      --disabled-fill-color: #666;\n",
              "  }\n",
              "\n",
              "  .colab-df-quickchart {\n",
              "    background-color: var(--bg-color);\n",
              "    border: none;\n",
              "    border-radius: 50%;\n",
              "    cursor: pointer;\n",
              "    display: none;\n",
              "    fill: var(--fill-color);\n",
              "    height: 32px;\n",
              "    padding: 0;\n",
              "    width: 32px;\n",
              "  }\n",
              "\n",
              "  .colab-df-quickchart:hover {\n",
              "    background-color: var(--hover-bg-color);\n",
              "    box-shadow: 0 1px 2px rgba(60, 64, 67, 0.3), 0 1px 3px 1px rgba(60, 64, 67, 0.15);\n",
              "    fill: var(--button-hover-fill-color);\n",
              "  }\n",
              "\n",
              "  .colab-df-quickchart-complete:disabled,\n",
              "  .colab-df-quickchart-complete:disabled:hover {\n",
              "    background-color: var(--disabled-bg-color);\n",
              "    fill: var(--disabled-fill-color);\n",
              "    box-shadow: none;\n",
              "  }\n",
              "\n",
              "  .colab-df-spinner {\n",
              "    border: 2px solid var(--fill-color);\n",
              "    border-color: transparent;\n",
              "    border-bottom-color: var(--fill-color);\n",
              "    animation:\n",
              "      spin 1s steps(1) infinite;\n",
              "  }\n",
              "\n",
              "  @keyframes spin {\n",
              "    0% {\n",
              "      border-color: transparent;\n",
              "      border-bottom-color: var(--fill-color);\n",
              "      border-left-color: var(--fill-color);\n",
              "    }\n",
              "    20% {\n",
              "      border-color: transparent;\n",
              "      border-left-color: var(--fill-color);\n",
              "      border-top-color: var(--fill-color);\n",
              "    }\n",
              "    30% {\n",
              "      border-color: transparent;\n",
              "      border-left-color: var(--fill-color);\n",
              "      border-top-color: var(--fill-color);\n",
              "      border-right-color: var(--fill-color);\n",
              "    }\n",
              "    40% {\n",
              "      border-color: transparent;\n",
              "      border-right-color: var(--fill-color);\n",
              "      border-top-color: var(--fill-color);\n",
              "    }\n",
              "    60% {\n",
              "      border-color: transparent;\n",
              "      border-right-color: var(--fill-color);\n",
              "    }\n",
              "    80% {\n",
              "      border-color: transparent;\n",
              "      border-right-color: var(--fill-color);\n",
              "      border-bottom-color: var(--fill-color);\n",
              "    }\n",
              "    90% {\n",
              "      border-color: transparent;\n",
              "      border-bottom-color: var(--fill-color);\n",
              "    }\n",
              "  }\n",
              "</style>\n",
              "\n",
              "  <script>\n",
              "    async function quickchart(key) {\n",
              "      const quickchartButtonEl =\n",
              "        document.querySelector('#' + key + ' button');\n",
              "      quickchartButtonEl.disabled = true;  // To prevent multiple clicks.\n",
              "      quickchartButtonEl.classList.add('colab-df-spinner');\n",
              "      try {\n",
              "        const charts = await google.colab.kernel.invokeFunction(\n",
              "            'suggestCharts', [key], {});\n",
              "      } catch (error) {\n",
              "        console.error('Error during call to suggestCharts:', error);\n",
              "      }\n",
              "      quickchartButtonEl.classList.remove('colab-df-spinner');\n",
              "      quickchartButtonEl.classList.add('colab-df-quickchart-complete');\n",
              "    }\n",
              "    (() => {\n",
              "      let quickchartButtonEl =\n",
              "        document.querySelector('#df-54a4a282-961f-4039-ae91-8a621f8620a5 button');\n",
              "      quickchartButtonEl.style.display =\n",
              "        google.colab.kernel.accessAllowed ? 'block' : 'none';\n",
              "    })();\n",
              "  </script>\n",
              "</div>\n",
              "    </div>\n",
              "  </div>\n"
            ],
            "application/vnd.google.colaboratory.intrinsic+json": {
              "type": "dataframe",
              "variable_name": "df"
            }
          },
          "metadata": {},
          "execution_count": 29
        }
      ]
    },
    {
      "cell_type": "code",
      "source": [
        "df.to_csv(f'dividido_Ent_sal_{nombre_aparcamiento}.csv', index=False)"
      ],
      "metadata": {
        "id": "MIaT_C89Izeb"
      },
      "execution_count": 31,
      "outputs": []
    },
    {
      "cell_type": "markdown",
      "source": [
        "- Se agrupan por fecha y hora las entradas y salidas para tener los totales en las 24h"
      ],
      "metadata": {
        "id": "A5hN_YA8ZEqh"
      }
    },
    {
      "cell_type": "code",
      "source": [
        "df_agrupado = df.groupby(['APARCAMIENTO', 'fecha', 'hora']).sum().reset_index()\n",
        "\n",
        "print(df_agrupado)"
      ],
      "metadata": {
        "colab": {
          "base_uri": "https://localhost:8080/"
        },
        "id": "Z6EWcb3SVBQX",
        "outputId": "a4a607dd-b807-4db9-d77a-4aff894f2c8b"
      },
      "execution_count": 32,
      "outputs": [
        {
          "output_type": "stream",
          "name": "stdout",
          "text": [
            "      APARCAMIENTO     fecha  hora  Entrada  Salida\n",
            "0                1  20230101     0      102      86\n",
            "1                1  20230101     1      117     189\n",
            "2                1  20230101     2       73      88\n",
            "3                1  20230101     3       40      13\n",
            "4                1  20230101     4       29       5\n",
            "...            ...       ...   ...      ...     ...\n",
            "8669             1  20231231    19      142      31\n",
            "8670             1  20231231    20      121      44\n",
            "8671             1  20231231    21       31      58\n",
            "8672             1  20231231    22       17      51\n",
            "8673             1  20231231    23       13     129\n",
            "\n",
            "[8674 rows x 5 columns]\n"
          ]
        }
      ]
    },
    {
      "cell_type": "code",
      "source": [
        "df_agrupado.to_csv(f'Agrupado_{nombre_aparcamiento}.csv', index=False)"
      ],
      "metadata": {
        "id": "j8mut1Ay-w5S"
      },
      "execution_count": 33,
      "outputs": []
    },
    {
      "cell_type": "markdown",
      "source": [],
      "metadata": {
        "id": "wed5C-9i34QN"
      }
    },
    {
      "cell_type": "code",
      "source": [
        "# Dividimos los datos en características (X) y etiquetas (y)\n",
        "X = df[['fecha', 'hora']]\n",
        "y = df['EventDesc']"
      ],
      "metadata": {
        "id": "IkoJudVrpTRj"
      },
      "execution_count": null,
      "outputs": []
    },
    {
      "cell_type": "code",
      "source": [
        "# # Escalamos los datos\n",
        "# scaler = StandardScaler()\n",
        "# X_normalized = scaler.fit_transform(X)\n",
        "\n",
        "X_values = X.values()"
      ],
      "metadata": {
        "id": "6DQI3K1TpTOv"
      },
      "execution_count": null,
      "outputs": []
    },
    {
      "cell_type": "code",
      "source": [
        "# Dividimos los datos en conjuntos de entrenamiento y prueba (80% train, 20% test)\n",
        "# X_train, X_test, y_train, y_test = train_test_split(X_normalized, y, test_size=0.2, random_state=42)\n",
        "X_train, X_test, y_train, y_test = train_test_split(X_values, y, test_size=0.2, random_state=42)\n",
        "\n",
        "# Dividir los datos de entrenamiento nuevamente para obtener un conjunto de validación (60% train, 20% validation, 20% test)\n",
        "X_train, X_val, y_train, y_val = train_test_split(X_train, y_train, test_size=0.25, random_state=42)\n",
        "\n",
        "# El 25% de los datos de entrenamiento se convierten en validación"
      ],
      "metadata": {
        "id": "HdqpvKXgpTMb"
      },
      "execution_count": null,
      "outputs": []
    }
  ]
}