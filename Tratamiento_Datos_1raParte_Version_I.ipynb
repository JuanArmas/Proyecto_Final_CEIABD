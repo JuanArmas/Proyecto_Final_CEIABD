{
  "nbformat": 4,
  "nbformat_minor": 0,
  "metadata": {
    "colab": {
      "provenance": [],
      "authorship_tag": "ABX9TyP3D/6iF8SQjgJhgPvi+qLr",
      "include_colab_link": true
    },
    "kernelspec": {
      "name": "python3",
      "display_name": "Python 3"
    },
    "language_info": {
      "name": "python"
    }
  },
  "cells": [
    {
      "cell_type": "markdown",
      "metadata": {
        "id": "view-in-github",
        "colab_type": "text"
      },
      "source": [
        "<a href=\"https://colab.research.google.com/github/JuanArmas/Proyecto_Final_CEIABD/blob/main/Tratamiento_Datos_1raParte_Version_I.ipynb\" target=\"_parent\"><img src=\"https://colab.research.google.com/assets/colab-badge.svg\" alt=\"Open In Colab\"/></a>"
      ]
    },
    {
      "cell_type": "code",
      "source": [
        "import pandas as pd\n",
        "import os\n",
        "from google.colab import drive"
      ],
      "metadata": {
        "id": "62f-Q-Pn-sXj"
      },
      "execution_count": 1,
      "outputs": []
    },
    {
      "cell_type": "code",
      "source": [
        "drive.mount('/content/drive')"
      ],
      "metadata": {
        "colab": {
          "base_uri": "https://localhost:8080/"
        },
        "id": "EFQTPbQc-tUV",
        "outputId": "80224a1e-1144-4b79-ecf0-fa0c6ac7a23e"
      },
      "execution_count": 2,
      "outputs": [
        {
          "output_type": "stream",
          "name": "stdout",
          "text": [
            "Mounted at /content/drive\n"
          ]
        }
      ]
    },
    {
      "cell_type": "code",
      "source": [
        "# Lista de rutas a los archivos Excel\n",
        "archivos_excel = [\n",
        "    \"/content/drive/MyDrive/Proyecto_Final/Datos_Origen/APARCAMIENTOS-ENERO-2023.xlsx\",\n",
        "    \"/content/drive/MyDrive/Proyecto_Final/Datos_Origen/APARCAMIENTOS-FEBRERO-2023.xlsx\",\n",
        "    \"/content/drive/MyDrive/Proyecto_Final/Datos_Origen/APARCAMIENTOS-MARZO-2023.xlsx\",\n",
        "    \"/content/drive/MyDrive/Proyecto_Final/Datos_Origen/APARCAMIENTOS-ABRIL-2023.xlsx\",\n",
        "    \"/content/drive/MyDrive/Proyecto_Final/Datos_Origen/APARCAMIENTOS-MAYO-2023.xlsx\",\n",
        "    \"/content/drive/MyDrive/Proyecto_Final/Datos_Origen/APARCAMIENTOS-JUNIO-2023.xlsx\",\n",
        "    \"/content/drive/MyDrive/Proyecto_Final/Datos_Origen/APARCAMIENTOS-JULIO-2023.xlsx\",\n",
        "    \"/content/drive/MyDrive/Proyecto_Final/Datos_Origen/APARCAMIENTOS-AGOSTO-2023.xlsx\",\n",
        "    \"/content/drive/MyDrive/Proyecto_Final/Datos_Origen/APARCAMIENTOS-SEPTIEMBRE-2023.xlsx\",\n",
        "    \"/content/drive/MyDrive/Proyecto_Final/Datos_Origen/APARCAMIENTOS-OCTUBRE-2023.xlsx\",\n",
        "    \"/content/drive/MyDrive/Proyecto_Final/Datos_Origen/APARCAMIENTOS-NOVIEMBRE-2023.xlsx\",\n",
        "    \"/content/drive/MyDrive/Proyecto_Final/Datos_Origen/APARCAMIENTOS-DICIEMBRE-2023.xlsx\"\n",
        "]"
      ],
      "metadata": {
        "id": "ELVlLSB--xOi"
      },
      "execution_count": 3,
      "outputs": []
    },
    {
      "cell_type": "code",
      "execution_count": 16,
      "metadata": {
        "id": "YcPikN999VVm"
      },
      "outputs": [],
      "source": [
        "def filtrar_y_guardar_por_aparcamiento(archivos_excel):\n",
        "    for archivo_excel in archivos_excel:\n",
        "        # Leemos el archivo Excel\n",
        "        datos = pd.read_excel(archivo_excel)\n",
        "\n",
        "        # Obtenemos la lista de nombres de aparcamientos únicos\n",
        "        aparcamientos = datos['APARCAMIENTO'].unique()\n",
        "\n",
        "        # Filtramos y guardar los datos por aparcamiento\n",
        "        for aparcamiento in aparcamientos:\n",
        "            datos_aparcamiento = datos[datos['APARCAMIENTO'] == aparcamiento]\n",
        "            nombre_archivo = f\"{aparcamiento}.csv\"\n",
        "            # ruta_archivo = os.path.join(nombre_archivo)\n",
        "            ruta_archivo = os.path.join(carpeta_destino,nombre_archivo)\n",
        "            # Usamos 'a' para abrir el archivo en modo de agregar\n",
        "            datos_aparcamiento.to_csv(ruta_archivo, mode='a', index=False, header=not os.path.exists(ruta_archivo))\n",
        "            print(f\"Archivo '{nombre_archivo}' guardado.\")"
      ]
    },
    {
      "cell_type": "code",
      "source": [
        "# Ruta de la carpeta destino para guardar los archivos CSV\n",
        "carpeta_destino = \"/content/drive/MyDrive/Proyecto_Final/Datasets_creados\""
      ],
      "metadata": {
        "id": "xO0SCGbb-1TG"
      },
      "execution_count": 17,
      "outputs": []
    },
    {
      "cell_type": "code",
      "source": [
        "# Crear la carpeta destino si no existe\n",
        "if not os.path.exists(carpeta_destino):\n",
        "    os.makedirs(carpeta_destino)"
      ],
      "metadata": {
        "id": "c1LNzN5U-_jj"
      },
      "execution_count": 18,
      "outputs": []
    },
    {
      "cell_type": "code",
      "source": [
        "# # Aplicar el filtro y guardar los datos por aparcamiento para cada archivo Excel\n",
        "# for archivo in archivos_excel:\n",
        "#     filtrar_y_guardar_por_aparcamiento([os.path.join(archivo)])\n",
        "\n",
        "# # filtrar_y_guardar_por_aparcamiento(archivos_excel, carpeta_destino)\n",
        "# print(\"descarga finalizada\")"
      ],
      "metadata": {
        "id": "EpRWXlcB_DdG"
      },
      "execution_count": null,
      "outputs": []
    },
    {
      "cell_type": "code",
      "source": [
        "for archivo in archivos_excel:\n",
        "    # Realizar el filtrado y guardar los datos en un DataFrame (sustituye esta parte con tu propia función)\n",
        "    datos_filtrados = filtrar_y_guardar_por_aparcamiento([archivo])\n",
        "\n",
        "    # Nombre del archivo CSV resultante\n",
        "    nombre_archivo = os.path.basename(archivo).replace('.xlsx', '.csv')\n",
        "\n",
        "    # Ruta del archivo CSV en la carpeta destino\n",
        "    ruta_archivo = os.path.join(carpeta_destino, nombre_archivo)\n",
        "\n",
        "    # Guardar los datos en un archivo CSV en la carpeta destino\n",
        "    # datos_filtrados.to_csv(ruta_archivo, index=False)\n",
        "\n",
        "# filtrar_y_guardar_por_aparcamiento(archivos_excel, carpeta_destino)\n",
        "print(\"descarga finalizada\")"
      ],
      "metadata": {
        "colab": {
          "base_uri": "https://localhost:8080/"
        },
        "id": "Z2eeSohGFj70",
        "outputId": "b3ea8c65-7c57-40d2-c0f6-9a527f0646fc"
      },
      "execution_count": 20,
      "outputs": [
        {
          "output_type": "stream",
          "name": "stdout",
          "text": [
            "Archivo 'SANAPÚ.csv' guardado.\n",
            "Archivo 'RINCÓN.csv' guardado.\n",
            "Archivo 'VEGUETA.csv' guardado.\n",
            "Archivo 'SAN BERNARDO.csv' guardado.\n",
            "Archivo 'ELDER.csv' guardado.\n",
            "Archivo 'MATA.csv' guardado.\n",
            "Archivo 'METROPOL.csv' guardado.\n",
            "Archivo 'RINCÓN.csv' guardado.\n",
            "Archivo 'SAN BERNARDO.csv' guardado.\n",
            "Archivo 'VEGUETA.csv' guardado.\n",
            "Archivo 'MATA.csv' guardado.\n",
            "Archivo 'SANAPÚ.csv' guardado.\n",
            "Archivo 'METROPOL.csv' guardado.\n",
            "Archivo 'ELDER.csv' guardado.\n",
            "Archivo 'SANAPÚ.csv' guardado.\n",
            "Archivo 'RINCÓN.csv' guardado.\n",
            "Archivo 'METROPOL.csv' guardado.\n",
            "Archivo 'ELDER.csv' guardado.\n",
            "Archivo 'VEGUETA.csv' guardado.\n",
            "Archivo 'SAN BERNARDO.csv' guardado.\n",
            "Archivo 'MATA.csv' guardado.\n",
            "Archivo 'SAN BERNARDO.csv' guardado.\n",
            "Archivo 'RINCÓN.csv' guardado.\n",
            "Archivo 'SANAPÚ.csv' guardado.\n",
            "Archivo 'VEGUETA.csv' guardado.\n",
            "Archivo 'ELDER.csv' guardado.\n",
            "Archivo 'METROPOL.csv' guardado.\n",
            "Archivo 'MATA.csv' guardado.\n",
            "Archivo 'VEGUETA.csv' guardado.\n",
            "Archivo 'ELDER.csv' guardado.\n",
            "Archivo 'RINCÓN.csv' guardado.\n",
            "Archivo 'MATA.csv' guardado.\n",
            "Archivo 'SANAPÚ.csv' guardado.\n",
            "Archivo 'METROPOL.csv' guardado.\n",
            "Archivo 'SAN BERNARDO.csv' guardado.\n",
            "Archivo 'ELDER.csv' guardado.\n",
            "Archivo 'VEGUETA.csv' guardado.\n",
            "Archivo 'MATA.csv' guardado.\n",
            "Archivo 'METROPOL.csv' guardado.\n",
            "Archivo 'RINCÓN.csv' guardado.\n",
            "Archivo 'SANAPÚ.csv' guardado.\n",
            "Archivo 'SAN BERNARDO.csv' guardado.\n",
            "Archivo 'ELDER.csv' guardado.\n",
            "Archivo 'VEGUETA.csv' guardado.\n",
            "Archivo 'MATA.csv' guardado.\n",
            "Archivo 'METROPOL.csv' guardado.\n",
            "Archivo 'RINCÓN.csv' guardado.\n",
            "Archivo 'SANAPÚ.csv' guardado.\n",
            "Archivo 'SAN BERNARDO.csv' guardado.\n",
            "Archivo 'RINCÓN.csv' guardado.\n",
            "Archivo 'VEGUETA.csv' guardado.\n",
            "Archivo 'SANAPÚ.csv' guardado.\n",
            "Archivo 'ELDER.csv' guardado.\n",
            "Archivo 'METROPOL.csv' guardado.\n",
            "Archivo 'SAN BERNARDO.csv' guardado.\n",
            "Archivo 'MATA.csv' guardado.\n",
            "Archivo 'ELDER.csv' guardado.\n",
            "Archivo 'VEGUETA.csv' guardado.\n",
            "Archivo 'MATA.csv' guardado.\n",
            "Archivo 'METROPOL.csv' guardado.\n",
            "Archivo 'RINCÓN.csv' guardado.\n",
            "Archivo 'SANAPÚ.csv' guardado.\n",
            "Archivo 'SAN BERNARDO.csv' guardado.\n",
            "Archivo 'ELDER.csv' guardado.\n",
            "Archivo 'SAN BERNARDO.csv' guardado.\n",
            "Archivo 'RINCÓN.csv' guardado.\n",
            "Archivo 'VEGUETA.csv' guardado.\n",
            "Archivo 'SANAPÚ.csv' guardado.\n",
            "Archivo 'MATA.csv' guardado.\n",
            "Archivo 'METROPOL.csv' guardado.\n",
            "Archivo 'SAN BERNARDO.csv' guardado.\n",
            "Archivo 'SANAPÚ.csv' guardado.\n",
            "Archivo 'RINCÓN.csv' guardado.\n",
            "Archivo 'VEGUETA.csv' guardado.\n",
            "Archivo 'MATA.csv' guardado.\n",
            "Archivo 'ELDER.csv' guardado.\n",
            "Archivo 'METROPOL.csv' guardado.\n",
            "Archivo 'ELDER.csv' guardado.\n",
            "Archivo 'VEGUETA.csv' guardado.\n",
            "Archivo 'MATA.csv' guardado.\n",
            "Archivo 'METROPOL.csv' guardado.\n",
            "Archivo 'SANAPÚ.csv' guardado.\n",
            "Archivo 'SAN BERNARDO.csv' guardado.\n",
            "Archivo 'RINCÓN.csv' guardado.\n",
            "descarga finalizada\n"
          ]
        }
      ]
    }
  ]
}