{
  "nbformat": 4,
  "nbformat_minor": 0,
  "metadata": {
    "colab": {
      "provenance": [],
      "authorship_tag": "ABX9TyOiuHtpKtW3ogSII9iElsrQ",
      "include_colab_link": true
    },
    "kernelspec": {
      "name": "python3",
      "display_name": "Python 3"
    },
    "language_info": {
      "name": "python"
    }
  },
  "cells": [
    {
      "cell_type": "markdown",
      "metadata": {
        "id": "view-in-github",
        "colab_type": "text"
      },
      "source": [
        "<a href=\"https://colab.research.google.com/github/JuanArmas/Proyecto_Final_CEIABD/blob/main/Obtener_festivos_laborales_csv.ipynb\" target=\"_parent\"><img src=\"https://colab.research.google.com/assets/colab-badge.svg\" alt=\"Open In Colab\"/></a>"
      ]
    },
    {
      "cell_type": "markdown",
      "source": [
        "Juan Airam Armas Alemán\n",
        "\n",
        "Github: https://github.com/JuanArmas/Proyecto_Final_CEIABD/blob/main/Tratamiento_Datos_1raParte_Version_I.ipynb\n",
        "\n",
        "Drive:\n",
        "https://drive.google.com/drive/folders/1FvCMo_QYz68XXPFFX4b4TJPTSollnmgB?usp=sharing\n"
      ],
      "metadata": {
        "id": "YsEYGma4OdIm"
      }
    },
    {
      "cell_type": "code",
      "source": [
        "import csv\n",
        "import os\n",
        "\n",
        "from google.colab import drive\n",
        "from datetime import datetime, timedelta"
      ],
      "metadata": {
        "id": "zOMUpzQw2BNX"
      },
      "execution_count": 7,
      "outputs": []
    },
    {
      "cell_type": "code",
      "source": [
        "drive.mount('/content/drive')"
      ],
      "metadata": {
        "colab": {
          "base_uri": "https://localhost:8080/"
        },
        "id": "etlkTskB5H0w",
        "outputId": "b2b5f64d-4f40-4eb9-efa2-f100a92cd9a5"
      },
      "execution_count": 8,
      "outputs": [
        {
          "output_type": "stream",
          "name": "stdout",
          "text": [
            "Mounted at /content/drive\n"
          ]
        }
      ]
    },
    {
      "cell_type": "code",
      "source": [
        "carpeta_destino = \"/content/drive/MyDrive/Proyecto_Final/Datasets_creados\""
      ],
      "metadata": {
        "id": "fD5YUt-c5Qm6"
      },
      "execution_count": 9,
      "outputs": []
    },
    {
      "cell_type": "code",
      "source": [
        "# Función para verificar si una fecha es fin de semana (sábado o domingo)\n",
        "def es_fin_de_semana(fecha):\n",
        "    return fecha.weekday() >= 5  # 5 es sábado, 6 es domingo\n",
        "\n",
        "# Obtener todos los días de 2023\n",
        "fecha_inicio = datetime(2023, 1, 1)\n",
        "fecha_fin = datetime(2023, 12, 31)\n",
        "todos_los_dias = [fecha_inicio + timedelta(days=i) for i in range((fecha_fin - fecha_inicio).days + 1)]\n",
        "\n",
        "# Se escriben los días en un archivo CSV con su estado (festivo, fin_de_semana, dias_laborales) y su valor binario, 0 para festivo/fds, 1 para laboral\n",
        "with open(f'{carpeta_destino}/dias_2023_2.csv', 'w', newline='') as csvfile:\n",
        "    writer = csv.writer(csvfile)\n",
        "    writer.writerow(['Fecha', 'Estado', 'Valor'])  # Cabecera del archivo CSV\n",
        "    for fecha in todos_los_dias:\n",
        "        fecha_str = fecha.strftime('%Y%m%d')\n",
        "        if fecha.weekday() == 5 or fecha.weekday() == 6:  # Es fin de semana\n",
        "            estado = 'fin_de_semana'\n",
        "            valor = 0\n",
        "        elif fecha_str in ['20230101', '20230106', '20230202', '20230317', '20230501', '20230530', '20230815', '20231012', '20231101', '20231206', '20231208', '20231225']:  # Días festivos en Las Palmas de Gran Canaria en 2023\n",
        "            estado = 'festivo'\n",
        "            valor = 0\n",
        "        else:  # Es día laboral\n",
        "            estado = 'dias_laborales'\n",
        "            valor = 1\n",
        "        writer.writerow([fecha_str, estado, valor])\n",
        "\n",
        "print(\"Archivo CSV generado exitosamente: dias_2023_2.csv\")\n"
      ],
      "metadata": {
        "colab": {
          "base_uri": "https://localhost:8080/"
        },
        "id": "-SENhwW73_60",
        "outputId": "4a240ad0-c167-4401-b299-e107fdae4785"
      },
      "execution_count": 15,
      "outputs": [
        {
          "output_type": "stream",
          "name": "stdout",
          "text": [
            "Archivo CSV generado exitosamente: dias_2023_2.csv\n"
          ]
        }
      ]
    }
  ]
}